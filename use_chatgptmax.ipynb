{
 "cells": [
  {
   "cell_type": "markdown",
   "metadata": {},
   "source": [
    "# Use the ChatGPTMax Python Module\n",
    "\n",
    "This notebook offers examples for using chatgptmax and can be used to interact with the module directly. To get started:\n",
    "\n",
    "1. Sign up for ChatGPT and create a secret API key. [More information here.](https://github.com/victoriadrake/chatgptmax/blob/master/docs/set_up_openai_api_key.md)\n",
    "2. Paste your API key in the first cell below.\n",
    "3. Run the code and experiment with chatgptmax!"
   ]
  },
  {
   "cell_type": "code",
   "execution_count": null,
   "metadata": {},
   "outputs": [],
   "source": [
    "# Set your OpenAI API key\n",
    "# Remember to delete this if you share this code!\n",
    "%env OPENAI_API_KEY=your-real-api-key-here"
   ]
  },
  {
   "cell_type": "code",
   "execution_count": null,
   "metadata": {},
   "outputs": [],
   "source": [
    "# Install the necessary packages\n",
    "! pip install --upgrade openai tiktoken chatgptmax"
   ]
  },
  {
   "cell_type": "markdown",
   "metadata": {},
   "source": [
    "The `clean.text` method removes URLs, email addresses, non-letter characters, and extra whitespace."
   ]
  },
  {
   "cell_type": "code",
   "execution_count": null,
   "metadata": {},
   "outputs": [],
   "source": [
    "from chatgptmax.clean import text\n",
    "\n",
    "# Clean the input text\n",
    "just_letters = text(\"Your input text goes here.\")\n",
    "\n",
    "# Print the cleaned text\n",
    "print(just_letters)"
   ]
  },
  {
   "cell_type": "markdown",
   "metadata": {},
   "source": [
    "The `clean.stopwords` method removes common short words from the input text."
   ]
  },
  {
   "cell_type": "code",
   "execution_count": null,
   "metadata": {},
   "outputs": [],
   "source": [
    "from chatgptmax.clean import stopwords\n",
    "\n",
    "# Remove stopwords from the input text\n",
    "text_without_stopwords = stopwords(\"This is a sample text. It contains some stop words that should be removed. We will use the chatgptmax module to clean and process this text.\")\n",
    "\n",
    "# Print the cleaned text\n",
    "print(text_without_stopwords)"
   ]
  },
  {
   "cell_type": "markdown",
   "metadata": {},
   "source": [
    "The `clean.text_from_file` method conveniently preprocesses text in the provided file by removing stopwords."
   ]
  },
  {
   "cell_type": "code",
   "execution_count": null,
   "metadata": {},
   "outputs": [],
   "source": [
    "from chatgptmax.clean import text_from_file\n",
    "\n",
    "# Specify the path to your file\n",
    "file_path = \"sample.txt\"\n",
    "\n",
    "# Clean and process the text from the file\n",
    "cleaned_text = text_from_file(file_path)\n",
    "\n",
    "# Print the cleaned text\n",
    "print(cleaned_text)"
   ]
  },
  {
   "cell_type": "markdown",
   "metadata": {},
   "source": [
    "The following code reads any amount of text from the provided file and sends it to ChatGPT to ask for a summary."
   ]
  },
  {
   "cell_type": "code",
   "execution_count": null,
   "metadata": {},
   "outputs": [],
   "source": [
    "from chatgptmax import send, read_data\n",
    "\n",
    "# Define the path to your text file\n",
    "file_path = \"summary_example.txt\"\n",
    "\n",
    "# Read the text data from the file\n",
    "text_data = read_data(file_path)\n",
    "\n",
    "# Define your prompt\n",
    "prompt_text = \"Summarize the following text for me:\"\n",
    "\n",
    "# Send the text data to ChatGPT for summarization\n",
    "responses = send(prompt=prompt_text, text_data=text_data)\n",
    "\n",
    "# Print ChatGPT's responses\n",
    "for response in responses:\n",
    "    print(response)\n"
   ]
  }
 ],
 "metadata": {
  "kernelspec": {
   "display_name": "venv",
   "language": "python",
   "name": "python3"
  },
  "language_info": {
   "codemirror_mode": {
    "name": "ipython",
    "version": 3
   },
   "file_extension": ".py",
   "mimetype": "text/x-python",
   "name": "python",
   "nbconvert_exporter": "python",
   "pygments_lexer": "ipython3",
   "version": "3.10.2"
  }
 },
 "nbformat": 4,
 "nbformat_minor": 2
}
